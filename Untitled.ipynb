{
 "cells": [
  {
   "cell_type": "code",
   "execution_count": 1,
   "id": "9902a4d1-5e2f-44be-ac90-93e244f9857a",
   "metadata": {},
   "outputs": [],
   "source": [
    "import pandas as pd"
   ]
  },
  {
   "cell_type": "code",
   "execution_count": 2,
   "id": "4a611456-c307-4479-9710-b03fcb8c0343",
   "metadata": {},
   "outputs": [],
   "source": [
    "import numpy as np\n",
    "from sklearn.model_selection import train_test_split\n",
    "from sklearn.preprocessing import LabelEncoder, StandardScaler\n",
    "from tensorflow.keras.models import Sequential\n",
    "from tensorflow.keras.layers import Dense, Embedding, Flatten, Dropout"
   ]
  },
  {
   "cell_type": "code",
   "execution_count": 3,
   "id": "247e0df8-00be-4207-944e-962a28d5f736",
   "metadata": {},
   "outputs": [],
   "source": [
    "from tensorflow.keras.optimizers import Adam\n",
    "from tensorflow.keras.callbacks import EarlyStopping"
   ]
  },
  {
   "cell_type": "code",
   "execution_count": 4,
   "id": "23232e38-531a-440b-b4e7-c833e46f554d",
   "metadata": {},
   "outputs": [
    {
     "name": "stderr",
     "output_type": "stream",
     "text": [
      "C:\\Users\\Ayush Singh\\AppData\\Local\\Temp\\ipykernel_13864\\791496768.py:6: FutureWarning: A value is trying to be set on a copy of a DataFrame or Series through chained assignment using an inplace method.\n",
      "The behavior will change in pandas 3.0. This inplace method will never work because the intermediate object on which we are setting values always behaves as a copy.\n",
      "\n",
      "For example, when doing 'df[col].method(value, inplace=True)', try using 'df.method({col: value}, inplace=True)' or df[col] = df[col].method(value) instead, to perform the operation inplace on the original object.\n",
      "\n",
      "\n",
      "  data['Crop'].fillna(data['Crop'].mode()[0], inplace=True)\n",
      "C:\\Users\\Ayush Singh\\AppData\\Local\\Temp\\ipykernel_13864\\791496768.py:7: FutureWarning: A value is trying to be set on a copy of a DataFrame or Series through chained assignment using an inplace method.\n",
      "The behavior will change in pandas 3.0. This inplace method will never work because the intermediate object on which we are setting values always behaves as a copy.\n",
      "\n",
      "For example, when doing 'df[col].method(value, inplace=True)', try using 'df.method({col: value}, inplace=True)' or df[col] = df[col].method(value) instead, to perform the operation inplace on the original object.\n",
      "\n",
      "\n",
      "  data['Season'].fillna(data['Season'].mode()[0], inplace=True)\n",
      "C:\\Users\\Ayush Singh\\AppData\\Local\\Temp\\ipykernel_13864\\791496768.py:8: FutureWarning: A value is trying to be set on a copy of a DataFrame or Series through chained assignment using an inplace method.\n",
      "The behavior will change in pandas 3.0. This inplace method will never work because the intermediate object on which we are setting values always behaves as a copy.\n",
      "\n",
      "For example, when doing 'df[col].method(value, inplace=True)', try using 'df.method({col: value}, inplace=True)' or df[col] = df[col].method(value) instead, to perform the operation inplace on the original object.\n",
      "\n",
      "\n",
      "  data['Area'].fillna(data['Area'].median(), inplace=True)\n",
      "C:\\Users\\Ayush Singh\\AppData\\Local\\Temp\\ipykernel_13864\\791496768.py:9: FutureWarning: A value is trying to be set on a copy of a DataFrame or Series through chained assignment using an inplace method.\n",
      "The behavior will change in pandas 3.0. This inplace method will never work because the intermediate object on which we are setting values always behaves as a copy.\n",
      "\n",
      "For example, when doing 'df[col].method(value, inplace=True)', try using 'df.method({col: value}, inplace=True)' or df[col] = df[col].method(value) instead, to perform the operation inplace on the original object.\n",
      "\n",
      "\n",
      "  data['Production'].fillna(data['Production'].median(), inplace=True)\n",
      "C:\\Users\\Ayush Singh\\AppData\\Local\\Temp\\ipykernel_13864\\791496768.py:10: FutureWarning: A value is trying to be set on a copy of a DataFrame or Series through chained assignment using an inplace method.\n",
      "The behavior will change in pandas 3.0. This inplace method will never work because the intermediate object on which we are setting values always behaves as a copy.\n",
      "\n",
      "For example, when doing 'df[col].method(value, inplace=True)', try using 'df.method({col: value}, inplace=True)' or df[col] = df[col].method(value) instead, to perform the operation inplace on the original object.\n",
      "\n",
      "\n",
      "  data['Yield'].fillna(data['Yield'].median(), inplace=True)\n"
     ]
    }
   ],
   "source": [
    "# Step 1: Data Exploration and Preprocessing\n",
    "# Load the Data\n",
    "data = pd.read_csv('India Agriculture Crop Production.csv')\n",
    "\n",
    "# Data Cleaning: Handle missing data\n",
    "data['Crop'].fillna(data['Crop'].mode()[0], inplace=True)\n",
    "data['Season'].fillna(data['Season'].mode()[0], inplace=True)\n",
    "data['Area'].fillna(data['Area'].median(), inplace=True)\n",
    "data['Production'].fillna(data['Production'].median(), inplace=True)\n",
    "data['Yield'].fillna(data['Yield'].median(), inplace=True)"
   ]
  },
  {
   "cell_type": "code",
   "execution_count": 5,
   "id": "e3a4d255-dd42-441e-b6e4-4cccb71ec432",
   "metadata": {},
   "outputs": [],
   "source": [
    "# Remove duplicates if any\n",
    "data.drop_duplicates(inplace=True)"
   ]
  },
  {
   "cell_type": "code",
   "execution_count": 6,
   "id": "295908ee-c2fb-41d5-a0a5-e048a02a638d",
   "metadata": {},
   "outputs": [],
   "source": [
    "# Feature Selection/Engineering: Encoding categorical features\n",
    "categorical_columns = ['State', 'District', 'Crop', 'Season']\n",
    "label_encoders = {}\n",
    "for col in categorical_columns:\n",
    "    label_encoders[col] = LabelEncoder()\n",
    "    data[col] = label_encoders[col].fit_transform(data[col])"
   ]
  },
  {
   "cell_type": "code",
   "execution_count": 7,
   "id": "fd82f23a-95dc-426d-9f1e-e7452822477f",
   "metadata": {},
   "outputs": [],
   "source": [
    "# If you need to encode \"Area Units\" and \"Production Units\"\n",
    "label_encoders['Area Units'] = LabelEncoder()\n",
    "label_encoders['Production Units'] = LabelEncoder()\n",
    "data['Area Units'] = label_encoders['Area Units'].fit_transform(data['Area Units'])\n",
    "data['Production Units'] = label_encoders['Production Units'].fit_transform(data['Production Units'])"
   ]
  },
  {
   "cell_type": "code",
   "execution_count": 8,
   "id": "8b18113e-ba9b-4769-a0b2-fe8aa8daf23b",
   "metadata": {},
   "outputs": [],
   "source": [
    "# Selecting features and target\n",
    "features = data.drop(columns=['Production'])\n",
    "target = data['Production']"
   ]
  },
  {
   "cell_type": "code",
   "execution_count": 9,
   "id": "df349853-3388-4913-a0aa-99895fb447a5",
   "metadata": {},
   "outputs": [],
   "source": [
    "# Normalization: Scale numerical features\n",
    "scaler = StandardScaler()\n",
    "features['Area'] = scaler.fit_transform(features[[ 'Area']])\n",
    "features['Year'] = features['Year'].apply(lambda x: int(x.split('-')[0]))"
   ]
  },
  {
   "cell_type": "code",
   "execution_count": 10,
   "id": "b608d574-1d19-4945-b99a-cc7e9f4a2ad3",
   "metadata": {},
   "outputs": [],
   "source": [
    "# Step 2: Natural Language Processing (NLP) for Text Data (if applicable)\n",
    "# Assuming we have text data for NLP (e.g., 'Crop' column as an example)\n",
    "# Text Preprocessing and Embedding\n",
    "# Skipping this step as no explicit text data is provided for NLP processing in the dataset"
   ]
  },
  {
   "cell_type": "code",
   "execution_count": 11,
   "id": "0a69588d-02c5-4242-9732-5b340acd3d57",
   "metadata": {},
   "outputs": [
    {
     "name": "stderr",
     "output_type": "stream",
     "text": [
      "C:\\Users\\Ayush Singh\\AppData\\Local\\Programs\\Python\\Python312\\Lib\\site-packages\\keras\\src\\layers\\core\\dense.py:87: UserWarning: Do not pass an `input_shape`/`input_dim` argument to a layer. When using Sequential models, prefer using an `Input(shape)` object as the first layer in the model instead.\n",
      "  super().__init__(activity_regularizer=activity_regularizer, **kwargs)\n"
     ]
    }
   ],
   "source": [
    "# Step 3: Model Building\n",
    "# Model Architecture\n",
    "model = Sequential()\n",
    "model.add(Dense(128, input_dim=features.shape[1], activation='relu'))\n",
    "model.add(Dropout(0.2))\n",
    "model.add(Dense(64, activation='relu'))\n",
    "model.add(Dense(32, activation='relu'))\n",
    "model.add(Dense(1, activation='linear'))  # Linear activation for regression"
   ]
  },
  {
   "cell_type": "code",
   "execution_count": 12,
   "id": "979f94b9-c89f-47bd-85cc-961f7fa6285d",
   "metadata": {},
   "outputs": [],
   "source": [
    "# Compile the Model\n",
    "model.compile(optimizer=Adam(learning_rate=0.001), loss='mean_squared_error', metrics=['mae'])"
   ]
  },
  {
   "cell_type": "code",
   "execution_count": 13,
   "id": "334aecbc-6471-491e-b311-305913b1bc22",
   "metadata": {},
   "outputs": [],
   "source": [
    "# Step 4: Training the Model\n",
    "# Split the Data\n",
    "X_train, X_val, y_train, y_val = train_test_split(features, target, test_size=0.2, random_state=42)"
   ]
  },
  {
   "cell_type": "code",
   "execution_count": 14,
   "id": "76805a27-7e67-4372-be89-a5366b0e8422",
   "metadata": {},
   "outputs": [
    {
     "name": "stdout",
     "output_type": "stream",
     "text": [
      "Epoch 1/10\n",
      "\u001b[1m8636/8636\u001b[0m \u001b[32m━━━━━━━━━━━━━━━━━━━━\u001b[0m\u001b[37m\u001b[0m \u001b[1m14s\u001b[0m 2ms/step - loss: 412097045331968.0000 - mae: 1247731.3750 - val_loss: 298561531019264.0000 - val_mae: 998028.1250\n",
      "Epoch 2/10\n",
      "\u001b[1m8636/8636\u001b[0m \u001b[32m━━━━━━━━━━━━━━━━━━━━\u001b[0m\u001b[37m\u001b[0m \u001b[1m12s\u001b[0m 1ms/step - loss: 403144588656640.0000 - mae: 1245595.3750 - val_loss: 296769858568192.0000 - val_mae: 1038055.6250\n",
      "Epoch 3/10\n",
      "\u001b[1m8636/8636\u001b[0m \u001b[32m━━━━━━━━━━━━━━━━━━━━\u001b[0m\u001b[37m\u001b[0m \u001b[1m25s\u001b[0m 3ms/step - loss: 389850792460288.0000 - mae: 1225008.3750 - val_loss: 295271082754048.0000 - val_mae: 962054.7500\n",
      "Epoch 4/10\n",
      "\u001b[1m8636/8636\u001b[0m \u001b[32m━━━━━━━━━━━━━━━━━━━━\u001b[0m\u001b[37m\u001b[0m \u001b[1m24s\u001b[0m 3ms/step - loss: 370683393605632.0000 - mae: 1170408.8750 - val_loss: 294061915242496.0000 - val_mae: 1069329.8750\n",
      "Epoch 5/10\n",
      "\u001b[1m8636/8636\u001b[0m \u001b[32m━━━━━━━━━━━━━━━━━━━━\u001b[0m\u001b[37m\u001b[0m \u001b[1m12s\u001b[0m 1ms/step - loss: 391346212831232.0000 - mae: 1245277.3750 - val_loss: 291257536479232.0000 - val_mae: 974401.5000\n",
      "Epoch 6/10\n",
      "\u001b[1m8636/8636\u001b[0m \u001b[32m━━━━━━━━━━━━━━━━━━━━\u001b[0m\u001b[37m\u001b[0m \u001b[1m12s\u001b[0m 1ms/step - loss: 400596733526016.0000 - mae: 1246450.3750 - val_loss: 288808297824256.0000 - val_mae: 947268.1875\n",
      "Epoch 7/10\n",
      "\u001b[1m8636/8636\u001b[0m \u001b[32m━━━━━━━━━━━━━━━━━━━━\u001b[0m\u001b[37m\u001b[0m \u001b[1m14s\u001b[0m 2ms/step - loss: 364977630216192.0000 - mae: 1215737.1250 - val_loss: 291302230982656.0000 - val_mae: 1109600.8750\n",
      "Epoch 8/10\n",
      "\u001b[1m8636/8636\u001b[0m \u001b[32m━━━━━━━━━━━━━━━━━━━━\u001b[0m\u001b[37m\u001b[0m \u001b[1m17s\u001b[0m 2ms/step - loss: 340707843768320.0000 - mae: 1194920.0000 - val_loss: 282406414188544.0000 - val_mae: 1079963.0000\n",
      "Epoch 9/10\n",
      "\u001b[1m8636/8636\u001b[0m \u001b[32m━━━━━━━━━━━━━━━━━━━━\u001b[0m\u001b[37m\u001b[0m \u001b[1m13s\u001b[0m 1ms/step - loss: 390071983276032.0000 - mae: 1291581.0000 - val_loss: 280766877532160.0000 - val_mae: 1062499.0000\n",
      "Epoch 10/10\n",
      "\u001b[1m8636/8636\u001b[0m \u001b[32m━━━━━━━━━━━━━━━━━━━━\u001b[0m\u001b[37m\u001b[0m \u001b[1m16s\u001b[0m 2ms/step - loss: 391049558097920.0000 - mae: 1270751.6250 - val_loss: 276174718631936.0000 - val_mae: 982041.4375\n"
     ]
    }
   ],
   "source": [
    "# Fit the Model\n",
    "early_stopping = EarlyStopping(monitor='val_loss', patience=10, restore_best_weights=True)\n",
    "history = model.fit(X_train, y_train, validation_data=(X_val, y_val), epochs=10, batch_size=32, callbacks=[early_stopping])"
   ]
  },
  {
   "cell_type": "code",
   "execution_count": null,
   "id": "4b4ec4c5-0d80-4b6b-8aee-26dab32af38f",
   "metadata": {},
   "outputs": [],
   "source": []
  },
  {
   "cell_type": "code",
   "execution_count": 16,
   "id": "823fb9a0-49f6-4b36-81d1-97543932bc6c",
   "metadata": {},
   "outputs": [
    {
     "name": "stdout",
     "output_type": "stream",
     "text": [
      "\u001b[1m2159/2159\u001b[0m \u001b[32m━━━━━━━━━━━━━━━━━━━━\u001b[0m\u001b[37m\u001b[0m \u001b[1m1s\u001b[0m 619us/step\n"
     ]
    }
   ],
   "source": [
    "# Step 6: Prediction\n",
    "# Make Predictions on validation data\n",
    "predictions = model.predict(X_val)"
   ]
  },
  {
   "cell_type": "code",
   "execution_count": 19,
   "id": "4ff804e9-529e-4e90-8681-cdc7e722a321",
   "metadata": {},
   "outputs": [
    {
     "name": "stderr",
     "output_type": "stream",
     "text": [
      "WARNING:absl:You are saving your model as an HDF5 file via `model.save()` or `keras.saving.save_model(model)`. This file format is considered legacy. We recommend using instead the native Keras format, e.g. `model.save('my_model.keras')` or `keras.saving.save_model(model, 'my_model.keras')`. \n"
     ]
    },
    {
     "data": {
      "text/plain": [
       "['scaler.pkl']"
      ]
     },
     "execution_count": 19,
     "metadata": {},
     "output_type": "execute_result"
    }
   ],
   "source": [
    "# Step 7: Deployment\n",
    "# Save the Model\n",
    "model.save('crop_yield_prediction_model.h5')\n",
    "import joblib\n",
    "\n",
    "joblib.dump(label_encoders, 'label_encoders.pkl')\n",
    "joblib.dump(scaler, 'scaler.pkl')\n",
    "\n",
    "# The model is now ready for deployment in a production environment."
   ]
  },
  {
   "cell_type": "code",
   "execution_count": null,
   "id": "143ea393-f9cc-4856-a2e3-6f32834e92e5",
   "metadata": {},
   "outputs": [],
   "source": []
  }
 ],
 "metadata": {
  "kernelspec": {
   "display_name": "Python 3 (ipykernel)",
   "language": "python",
   "name": "python3"
  },
  "language_info": {
   "codemirror_mode": {
    "name": "ipython",
    "version": 3
   },
   "file_extension": ".py",
   "mimetype": "text/x-python",
   "name": "python",
   "nbconvert_exporter": "python",
   "pygments_lexer": "ipython3",
   "version": "3.12.4"
  },
  "widgets": {
   "application/vnd.jupyter.widget-state+json": {
    "state": {},
    "version_major": 2,
    "version_minor": 0
   }
  }
 },
 "nbformat": 4,
 "nbformat_minor": 5
}
